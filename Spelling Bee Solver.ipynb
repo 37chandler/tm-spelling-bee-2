{
 "cells": [
  {
   "cell_type": "markdown",
   "id": "05fab87c",
   "metadata": {},
   "source": [
    "## Spelling Bee Solver\n",
    "\n",
    "Using two word lists (`big.txt` and `words-1.txt`), an initial set of letters, and a designated center letter, come up with all words that only use letters from the list and require the center letter. The big file has lots of words that Spelling Bee probably won't accept, but it seems worthwhile to cast a wide net since we don't know how accurate `words-1` is."
   ]
  },
  {
   "cell_type": "code",
   "execution_count": null,
   "id": "8825febc",
   "metadata": {},
   "outputs": [],
   "source": [
    "words = set()\n",
    "\n",
    "big_file = open('big.txt').read()\n",
    "word_file = open('words-1.txt').read()"
   ]
  },
  {
   "cell_type": "code",
   "execution_count": null,
   "id": "4b1b7983",
   "metadata": {},
   "outputs": [],
   "source": [
    "# fill the set of words with individual words from these two files. \n",
    "# Make everything lowercase too (called \"case folding\")"
   ]
  },
  {
   "cell_type": "code",
   "execution_count": null,
   "id": "bdd65763",
   "metadata": {},
   "outputs": [],
   "source": [
    "len(words)"
   ]
  },
  {
   "cell_type": "markdown",
   "id": "251e4c49",
   "metadata": {},
   "source": [
    "We only need words that have length greater than 3. "
   ]
  },
  {
   "cell_type": "code",
   "execution_count": null,
   "id": "f9271079",
   "metadata": {},
   "outputs": [],
   "source": [
    "# cut down to just words four letters or longer"
   ]
  },
  {
   "cell_type": "markdown",
   "id": "b5b901e8",
   "metadata": {},
   "source": [
    "Okay, so we've read in the words, now let's do some solving. "
   ]
  },
  {
   "cell_type": "code",
   "execution_count": null,
   "id": "6bbdc2ed",
   "metadata": {},
   "outputs": [],
   "source": [
    "# From 2021-09-02\n",
    "\n",
    "optional_letters = \"ltabho\"\n",
    "required_letter = \"m\"\n",
    "letters = optional_letters + required_letter\n",
    "letter_set = set(letters)"
   ]
  },
  {
   "cell_type": "code",
   "execution_count": null,
   "id": "dc1a9521",
   "metadata": {},
   "outputs": [],
   "source": [
    "letter_set"
   ]
  },
  {
   "cell_type": "code",
   "execution_count": null,
   "id": "680401fc",
   "metadata": {},
   "outputs": [],
   "source": [
    "solutions = []\n",
    "\n",
    "# Fill in the solutions list with words that *only* have letters from our letter set\n",
    "# and all must include the required_letter"
   ]
  },
  {
   "cell_type": "code",
   "execution_count": null,
   "id": "aaf5f972",
   "metadata": {},
   "outputs": [],
   "source": [
    "sorted(solutions)"
   ]
  }
 ],
 "metadata": {
  "kernelspec": {
   "display_name": "Python 3 (ipykernel)",
   "language": "python",
   "name": "python3"
  },
  "language_info": {
   "codemirror_mode": {
    "name": "ipython",
    "version": 3
   },
   "file_extension": ".py",
   "mimetype": "text/x-python",
   "name": "python",
   "nbconvert_exporter": "python",
   "pygments_lexer": "ipython3",
   "version": "3.8.8"
  }
 },
 "nbformat": 4,
 "nbformat_minor": 5
}
